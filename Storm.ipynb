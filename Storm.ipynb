{
 "cells": [
  {
   "cell_type": "code",
   "execution_count": 1,
   "metadata": {
    "ExecuteTime": {
     "end_time": "2020-05-06T17:45:33.961856Z",
     "start_time": "2020-05-06T17:45:33.958404Z"
    },
    "code_folding": []
   },
   "outputs": [],
   "source": [
    "# Imports\n",
    "from storm.utils import Storm\n",
    "import numpy as np\n",
    "import pandas as pd\n",
    "import matplotlib.pyplot as plt\n",
    "import datetime as dt\n",
    "import time"
   ]
  },
  {
   "cell_type": "markdown",
   "metadata": {},
   "source": [
    "## Storm Run"
   ]
  },
  {
   "cell_type": "code",
   "execution_count": 2,
   "metadata": {
    "ExecuteTime": {
     "end_time": "2020-05-06T17:56:06.578188Z",
     "start_time": "2020-05-06T17:49:10.645686Z"
    },
    "code_folding": []
   },
   "outputs": [],
   "source": [
    "# Shared Variables and Functions\n",
    "user = '1241528689'\n",
    "\n",
    "# Playlist Inputs\n",
    "output_playlist = {'daily':'7fnvajjUoWBQDo8iFNMH3s',\n",
    "                   'archive':'1Q8WS7Xj51WCHZctXGDsrp'}\n",
    "\n",
    "# Inputs\n",
    "inputs = {'Much Needed':'7N3pwZE1N38wcdiuLxiPvq',\n",
    "                  'Room on the Boat':'1SZS16UcW0XOzgh6UWXA9S',\n",
    "                  'Refuge':'3K9no6AflSDYiiMzignAm7',\n",
    "                  'Safety':'0R1gw1JbcOFD0r8IzrbtYP',\n",
    "                  'Shelter from the Storm':'2yueH0i9C2daBRawYIc9P8',\n",
    "                  'Soundtracked':'37i9dQZF1DWW7gj0FcGEx6',\n",
    "                  'Soundtrack for Study':'0hZNf3tcMT4x03FyjKYJ3M',\n",
    "                  'Film Music - Movie Scores':'5GhatXsZVNYxrhqEAfZPLR',\n",
    "                  'Video Game Soundtracks':'3Iwd2RiXCzmm1AMUpRAaHO',\n",
    "                  'Video Game Music Unofficial':'3aI7ztMmDhMHhYe1KOPFLG'}"
   ]
  },
  {
   "cell_type": "code",
   "execution_count": 8,
   "metadata": {
    "code_folding": [],
    "scrolled": false
   },
   "outputs": [
    {
     "name": "stdout",
     "output_type": "stream",
     "text": [
      "Generating Token and Authenticating. . .\n",
      "Authentication Complete.\n",
      "\n",
      "Reading in existing Data.\n",
      "Storm Arists Found! Reading in now.\n",
      "Done! 1571 Unique Artists found.\n",
      "\n",
      "\n",
      "Previously Discovered Albums Found! Reading in now.\n",
      "Done! 65134 Albums found.\n",
      "\n",
      "Augmenting new Artists from playlist input dictionary.\n",
      "Obtaining a list of Tracks from Playlist . . .Much Needed\n",
      "Finding Artists . . .\n",
      "Obtaining a list of Tracks from Playlist . . .Room on the Boat\n",
      "Finding Artists . . .\n",
      "Obtaining a list of Tracks from Playlist . . .Refuge\n",
      "Finding Artists . . .\n",
      "Obtaining a list of Tracks from Playlist . . .Safety\n",
      "Finding Artists . . .\n",
      "Obtaining a list of Tracks from Playlist . . .Shelter from the Storm\n",
      "Finding Artists . . .\n",
      "Obtaining a list of Tracks from Playlist . . .Soundtracked\n",
      "Finding Artists . . .\n",
      "Obtaining a list of Tracks from Playlist . . .Soundtrack for Study\n",
      "Finding Artists . . .\n",
      "Obtaining a list of Tracks from Playlist . . .Film Music - Movie Scores\n",
      "Finding Artists . . .\n",
      "Obtaining a list of Tracks from Playlist . . .Video Game Soundtracks\n",
      "Finding Artists . . .\n",
      "Obtaining a list of Tracks from Playlist . . .Video Game Music Unofficial\n",
      "Finding Artists . . .\n",
      "Done! All Input Playlists Scanned.\n",
      "Removing Blacklist Artists.\n"
     ]
    },
    {
     "data": {
      "application/vnd.jupyter.widget-view+json": {
       "model_id": "6b3516844b1b4b5580fb34647b8ce272",
       "version_major": 2,
       "version_minor": 0
      },
      "text/plain": [
       "  0%|          | 0/1571 [00:00<?, ?it/s]"
      ]
     },
     "metadata": {},
     "output_type": "display_data"
    },
    {
     "name": "stdout",
     "output_type": "stream",
     "text": [
      "Saving Artist Ids.\n",
      "Obtaining all albums from the list of artists. (Albums)\n"
     ]
    },
    {
     "data": {
      "application/vnd.jupyter.widget-view+json": {
       "model_id": "61a93f3bf7cf47b0aaed2190e8ee8a38",
       "version_major": 2,
       "version_minor": 0
      },
      "text/plain": [
       "  0%|          | 0/1571 [00:00<?, ?it/s]"
      ]
     },
     "metadata": {},
     "output_type": "display_data"
    },
    {
     "name": "stdout",
     "output_type": "stream",
     "text": [
      "Albums being tracked: 35877\n",
      "Obtaining all albums from the list of artists. (Singles)\n"
     ]
    },
    {
     "data": {
      "application/vnd.jupyter.widget-view+json": {
       "model_id": "281eebd15b6d43869581fca142e2c361",
       "version_major": 2,
       "version_minor": 0
      },
      "text/plain": [
       "  0%|          | 0/1571 [00:00<?, ?it/s]"
      ]
     },
     "metadata": {},
     "output_type": "display_data"
    },
    {
     "name": "stdout",
     "output_type": "stream",
     "text": [
      "Albums being tracked: 65135\n",
      "Filtering Album list for new content.\n",
      "Using Filtered albums to obtain a track list.\n"
     ]
    },
    {
     "data": {
      "application/vnd.jupyter.widget-view+json": {
       "model_id": "db83cbb96755495e824a6caa717676c7",
       "version_major": 2,
       "version_minor": 0
      },
      "text/plain": [
       "  0%|          | 0/430 [00:00<?, ?it/s]"
      ]
     },
     "metadata": {},
     "output_type": "display_data"
    },
    {
     "name": "stdout",
     "output_type": "stream",
     "text": [
      "Checking Tracks for bad features.\n",
      "Starting track amount: 1878\n"
     ]
    },
    {
     "data": {
      "application/vnd.jupyter.widget-view+json": {
       "model_id": "7db10195b3fc4f70b79eb100e0cf684f",
       "version_major": 2,
       "version_minor": 0
      },
      "text/plain": [
       "  0%|          | 0/1878 [00:00<?, ?it/s]"
      ]
     },
     "metadata": {},
     "output_type": "display_data"
    },
    {
     "name": "stdout",
     "output_type": "stream",
     "text": [
      "Ending Track Amount: 1155\n",
      "Archiving Current Storm Listening.\n",
      "No Tracks to Archive.\n",
      "Preparing Tracks for Writing\n",
      "Writing Tracks\n"
     ]
    },
    {
     "data": {
      "application/vnd.jupyter.widget-view+json": {
       "model_id": "8b90c3e396d14effb814b33339c4113d",
       "version_major": 2,
       "version_minor": 0
      },
      "text/plain": [
       "  0%|          | 0/23 [00:00<?, ?it/s]"
      ]
     },
     "metadata": {},
     "output_type": "display_data"
    },
    {
     "name": "stdout",
     "output_type": "stream",
     "text": [
      "Writing metadata from run.\n",
      "Saving Albums from run.\n"
     ]
    }
   ],
   "source": [
    "# Authorized spotipy object\n",
    "storm = Storm(user, inputs, output_playlist['daily'], output_playlist['archive'], 'instrumental', \n",
    "              start_date='2021-02-15', filter_unseen=True)\n",
    "\n",
    "storm.Run()"
   ]
  },
  {
   "cell_type": "markdown",
   "metadata": {},
   "source": [
    "## Post-run Metrics"
   ]
  },
  {
   "cell_type": "code",
   "execution_count": null,
   "metadata": {
    "code_folding": []
   },
   "outputs": [],
   "source": [
    "# Plots and Processing\n",
    "df = storm.mdf\n",
    "\n",
    "df['track_added_sum'] = df.tracks_added.cumsum()\n",
    "df['track_elig_sum'] = df.tracks_eligible.cumsum()"
   ]
  },
  {
   "cell_type": "code",
   "execution_count": null,
   "metadata": {},
   "outputs": [],
   "source": [
    "fig, ax = plt.subplots(2, 2, figsize = (15, 10));\n",
    "df.artists_tracked.plot(ax=ax[0][0]).set_title(\"Artists Tracked\");\n",
    "df.blacklisted_artists.plot(ax=ax[1][0]).set_title(\"Blacklisted Artists\");\n",
    "df.albums_augmented.plot(ax=ax[0][1]).set_title(\"Albums Augmented\");\n",
    "df.albums_tracked.plot(ax=ax[1][1]).set_title(\"Albums Tracked\");"
   ]
  },
  {
   "cell_type": "code",
   "execution_count": null,
   "metadata": {
    "scrolled": false
   },
   "outputs": [],
   "source": [
    "fig, ax = plt.subplots(2, 1, figsize=(15, 10));\n",
    "df[['tracks_added', 'tracks_eligible']].plot(ax=ax[0]).set_title('Tracks Added by Day');\n",
    "df[['track_added_sum', 'track_elig_sum']].plot(ax=ax[1]).set_title('Tracks Added Cumulatively');"
   ]
  }
 ],
 "metadata": {
  "kernelspec": {
   "display_name": "Python 3",
   "language": "python",
   "name": "python3"
  },
  "language_info": {
   "codemirror_mode": {
    "name": "ipython",
    "version": 3
   },
   "file_extension": ".py",
   "mimetype": "text/x-python",
   "name": "python",
   "nbconvert_exporter": "python",
   "pygments_lexer": "ipython3",
   "version": "3.7.3"
  }
 },
 "nbformat": 4,
 "nbformat_minor": 2
}
