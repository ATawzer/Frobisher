{
 "cells": [
  {
   "cell_type": "code",
   "execution_count": 2,
   "metadata": {
    "code_folding": [
     0
    ]
   },
   "outputs": [],
   "source": [
    "# Imports\n",
    "import spotipy\n",
    "from spotipy import util\n",
    "from spotipy import oauth2\n",
    "import numpy as np\n",
    "import pandas as pd\n",
    "from tqdm import tqdm_notebook as tqdm\n",
    "from os import path"
   ]
  },
  {
   "cell_type": "code",
   "execution_count": 8,
   "metadata": {
    "code_folding": [],
    "scrolled": false
   },
   "outputs": [],
   "source": [
    "# Shared Variables and Functions\n",
    "# User token if necessary\n",
    "scope = 'user-follow-read playlist-modify-private playlist-modify-public user-follow-modify'\n",
    "user_id = '1241528689'\n",
    "token = util.prompt_for_user_token(\n",
    "    user_id,\n",
    "    scope=scope,\n",
    "    client_id='9b41900f606c4e55855524f448917d64',\n",
    "    client_secret='3277c16b708548369ce1f42deed974ea',\n",
    "    redirect_uri='http://localhost/')\n",
    "\n",
    "# Authorized spotipy object\n",
    "sp = spotipy.Spotify(auth=token)\n",
    "\n",
    "# Get followed Artists\n",
    "def get_followed_artists():\n",
    "    lim = 20\n",
    "    response = sp.current_user_followed_artists(limit=lim, after=None)\n",
    "    next_batch = response['artists']['items'][-1]['id']\n",
    "    more_artists = True\n",
    "\n",
    "    while more_artists:\n",
    "\n",
    "        batch = sp.current_user_followed_artists(limit=lim, after=next_batch)\n",
    "        response['artists']['items'].extend(batch['artists']['items'])\n",
    "        next_batch = batch['artists']['items'][-1]['id']\n",
    "\n",
    "        if len(batch['artists']['items']) < lim:\n",
    "            more_artists = False\n",
    "\n",
    "    artists = pd.DataFrame(response['artists']['items'])\n",
    "    return artists\n",
    "\n",
    "def get_artist_albums(date, artist_ids):\n",
    "    # Get relevant albums - Modern (singles and albums)\n",
    "    if path.exists('artist_temp.csv')\n",
    "        scraped = pd.read_csv('album_temp.csv')\n",
    "        artist_ids = [aid if aid in scraped]\n",
    "    chunks = np.array_split(artist_ids, 100)\n",
    "    lim = 50\n",
    "    albums = pd.DataFrame(columns = ['album_group', 'album_type', 'artists', 'available_markets',\n",
    "               'external_urls', 'href', 'id', 'images', 'name', 'release_date',\n",
    "               'release_date_precision', 'total_tracks', 'type', 'uri'])\n",
    "    \n",
    "    for chunk in tqdm(chunks):\n",
    "\n",
    "        for artist_id in tqdm(chunk, leave=False):\n",
    "            response = sp.artist_albums(artist_id, limit=lim, album_type='album')\n",
    "            offset = 0\n",
    "            more_albums = True\n",
    "\n",
    "            while more_albums:\n",
    "\n",
    "                batch = sp.artist_albums(artist_id, limit=lim, offset=offset, album_type='album')\n",
    "                response['items'].extend(batch['items'])\n",
    "                offset += lim\n",
    "\n",
    "                if len(batch['items']) < lim:\n",
    "                        more_albums = False\n",
    "\n",
    "            response_df = pd.DataFrame(response['items'])\n",
    "            response_df = response_df\n",
    "            albums = pd.concat([albums, response_df], axis=0)\n",
    "        albums\n",
    "\n",
    "    os.remove('album_temp.csv')\n",
    "    return albums[albums.release_date >= date]\n",
    "\n",
    "# Get Modern Tracks\n",
    "def get_album_tracks(album_ids):\n",
    "    lim = 50\n",
    "    tracks = pd.DataFrame(columns = ['artists', 'available_markets', 'disc_number', 'duration_ms',\n",
    "           'explicit', 'external_urls', 'href', 'id', 'is_local', 'name',\n",
    "           'preview_url', 'track_number', 'type', 'uri'])\n",
    "\n",
    "    for album_id in tqdm(album_ids):\n",
    "        response = sp.album_tracks(album_id, limit=lim)\n",
    "        offset = 0\n",
    "        more_tracks = True\n",
    "        if len(response['items']) < lim:\n",
    "                more_tracks = False\n",
    "\n",
    "        while more_tracks:\n",
    "\n",
    "            batch = sp.album_tracks(album_id, limit=lim, offset=offset)\n",
    "            response['items'].extend(batch['items'])\n",
    "            offset += lim\n",
    "\n",
    "            if len(batch['items']) < lim:\n",
    "                more_tracks = False\n",
    "\n",
    "        response_df = pd.DataFrame(response['items'])\n",
    "        tracks = pd.concat([tracks, response_df], axis=0)\n",
    "\n",
    "    return(tracks)\n",
    "\n",
    "def add_tracks_to_playlist(user_id, playlist_id, track_ids, replace=True):\n",
    "    lim = 50\n",
    "    split_tracks = np.array_split(track_ids, np.ceil(len(track_ids)/lim))\n",
    "    \n",
    "    if replace:\n",
    "        sp.user_playlist_replace_tracks(user_id, playlist_id, split_tracks[0])\n",
    "        for track_list in tqdm(split_tracks[1:]):\n",
    "            sp.user_playlist_add_tracks(user_id, playlist_id, track_list)\n",
    "    else:\n",
    "        for track_list in tqdm(split_tracks):\n",
    "            sp.user_playlist_add_tracks(user_id, playlist_id, track_list)\n",
    "    \n",
    "        \n",
    "# Get Playlist Tracks\n",
    "def get_playlist_tracks(playlist_id, user_id):\n",
    "    lim = 50\n",
    "    more_tracks = True\n",
    "    offset=0\n",
    "\n",
    "    playlist_results = sp.user_playlist_tracks(user_id, playlist_id, limit=lim, offset=offset)\n",
    "    if len(playlist_results['items']) < lim:\n",
    "            more_tracks = False\n",
    "\n",
    "    while more_tracks:\n",
    "\n",
    "        offset += lim\n",
    "        batch = sp.user_playlist_tracks(user_id, playlist_id, limit=lim, offset=offset)\n",
    "        playlist_results['items'].extend(batch['items'])\n",
    "\n",
    "        if len(batch['items']) < lim:\n",
    "            more_tracks = False\n",
    "\n",
    "    response_df = pd.DataFrame(playlist_results['items'])\n",
    "    return response_df\n",
    "\n",
    "# Get all Tracks in the playlist\n",
    "def get_track_artists(track_df):\n",
    "    \n",
    "    artist_ids = []\n",
    "    for track in track_df:\n",
    "        try:\n",
    "            artists = dict(track)['artists']\n",
    "        except:\n",
    "            continue\n",
    "\n",
    "        for artist in artists:\n",
    "            if artist['id'] not in artist_ids:\n",
    "                artist_ids.append(artist['id'])\n",
    "    return(artist_ids)\n",
    "\n",
    "def filter_classical(artist_ids):\n",
    "    \n",
    "    output_list = []\n",
    "    for artist in tqdm(artist_ids):\n",
    "        artist_info = sp.artist(artist)\n",
    "        \n",
    "        if 'classical' not in artist_info['genres']:\n",
    "            output_list.append(artist)\n",
    "            \n",
    "    return output_list\n",
    "\n",
    "def generateStorm(input_playlist, output_playlist, user_id, date, classical=False, stash=False):\n",
    "    \n",
    "    print(\"Obtaining a list of Tracks from Playlist . . .\")\n",
    "    playlist_df = get_playlist_tracks(input_playlist, user_id)\n",
    "    \n",
    "    print(\"Finding Artists . . .\")\n",
    "    artist_ids = get_track_artists(playlist_df['track'])\n",
    "                  \n",
    "    if not classical:\n",
    "        print(\"Removing Classical Artists.\")\n",
    "        artist_ids = filter_classical(artist_ids)\n",
    "    \n",
    "    print(\"Finding new album releases for artists . . .\")\n",
    "    album_df = get_artist_albums(date, artist_ids).reset_index()\n",
    "    new_tracks = get_album_tracks(album_df['id']).reset_index()\n",
    "    \n",
    "    print(\"Writing back to playlist.\")\n",
    "    if len(new_tracks) < 1:\n",
    "        print(\"Playlist Empty, no new releases. Try again later.\")\n",
    "    else:\n",
    "        add_tracks_to_playlist(user_id, output_playlist, new_tracks['id'].unique())\n",
    "        \n",
    "    if stash:\n",
    "        print(\"Stashing batch to input playlist as well.\")\n",
    "        add_tracks_to_playlist(user_id, input_playlist, new_tracks['id'].unique())\n",
    "        \n",
    "def generateTheStorm(user_id, date):\n",
    "    \n",
    "    # Ouput\n",
    "    output = '7fnvajjUoWBQDo8iFNMH3s'\n",
    "    \n",
    "    # Inputs\n",
    "    inputs = {'Much Needed':'7N3pwZE1N38wcdiuLxiPvq',\n",
    "              'Room on the Boat':'1SZS16UcW0XOzgh6UWXA9S',\n",
    "              'Refuge':'3K9no6AflSDYiiMzignAm7',\n",
    "              'Safety':'0R1gw1JbcOFD0r8IzrbtYP',\n",
    "              'Shelter from the Storm':'2yueH0i9C2daBRawYIc9P8',\n",
    "              'Soundtracked':'37i9dQZF1DWW7gj0FcGEx6',\n",
    "              'Refuge':'3K9no6AflSDYiiMzignAm7',\n",
    "              'Soundtrack for Study':'0hZNf3tcMT4x03FyjKYJ3M',\n",
    "              'Film Music - Movie Scores':'5GhatXsZVNYxrhqEAfZPLR',\n",
    "              'Video Game Music':'37i9dQZF1DXdfOcg1fm0VG',\n",
    "              'Video Game Soundtracks':'3Iwd2RiXCzmm1AMUpRAaHO',\n",
    "              'Video Game Music Unofficial':'3aI7ztMmDhMHhYe1KOPFLG',\n",
    "              'Fantasy - Music Writing':'0zjGLygoBmpafEsGtk5n1a',\n",
    "              'OST Game Playlist':'3Iwd2RiXCzmm1AMUpRAaHO'}\n",
    "              \n",
    "    # Artists\n",
    "    artist_ids = []\n",
    "    print(\"Obtaining a track list.\")\n",
    "    if path.exists('artistids_'+date+'.csv'):\n",
    "        print(\"Artists already scraped, reading in . . .\")\n",
    "        artist_ids = pd.read_csv('artistids_'+date+'.csv')['artists'].values\n",
    "    else:\n",
    "        print(\"Artists not scraped, scraping now . . .\")\n",
    "        for pl in inputs.keys():\n",
    "            print(\"Obtaining a list of Tracks from Playlist . . .\" + pl)\n",
    "            playlist_df = get_playlist_tracks(inputs[pl], user_id)\n",
    "\n",
    "            print(\"Finding Artists . . .\")\n",
    "            artist_ids.extend(get_track_artists(playlist_df['track']))\n",
    "\n",
    "        stashed = pd.read_csv('Storm Artists.csv')\n",
    "        artist_ids.extend(stashed.artists.values.tolist())\n",
    "        \n",
    "        print(\"Removing Classical Artists.\")\n",
    "        artist_ids = filter_classical(artist_ids)\n",
    "        \n",
    "        print(\"Stashing artists\")\n",
    "        pd.DataFrame(artist_ids, columns=['artists']).to_csv('artistids_'+date+'.csv', index=False)\n",
    "        pd.DataFrame(artist_ids, columns=['artists']).to_csv('Storm Artists.csv', index=False)\n",
    "\n",
    "    # Album Releases\n",
    "    album_df = pd.DataFrame()\n",
    "    print(\"Finding new album releases for artists . . .\")\n",
    "    if path.exists('albumdf_'+date+'.csv'):\n",
    "        print(\"Albums already scraped, reading in . . .\")\n",
    "        album_df = pd.read_csv('albumdf_'+date+'.csv')\n",
    "    else:\n",
    "        print(\"Albums not scraped, scraping now . . .\")\n",
    "        album_df = get_artist_albums(date, artist_ids).reset_index()\n",
    "        album_df.to_csv('albumdf_'+date+'.csv', index=False)\n",
    "    \n",
    "    # Tracks\n",
    "    new_tracks = pd.DataFrame()\n",
    "    print(\"Obtaining a track list.\")\n",
    "    if path.exists('newtracks_'+date+'.csv'):\n",
    "        print(\"Tracks already scraped, reading in . . .\")\n",
    "        new_tracks = pd.read_csv('newtracks_'+date+'.csv')\n",
    "    else:\n",
    "        print(\"Tracks not scraped, scraping now . . .\")\n",
    "        new_tracks = get_album_tracks(album_df['id']).reset_index()\n",
    "        new_tracks.to_csv('newtracks_'+date+'.csv', index=False)\n",
    "        \n",
    "    # Blacklists\n",
    "    print(\"Removing Blacklisted Artists.\")\n",
    "    blacklist = pd.read_csv('blacklist.csv').reset_index()\n",
    "    max_artist = 0\n",
    "    \n",
    "    # Remove tracks with bad artists\n",
    "    new_tracks['bl'] = 0\n",
    "    for index in tqdm(new_tracks.index):\n",
    "        for bla in blacklist.artist:\n",
    "            if str(bla) in str(new_tracks.loc[index, 'artists']):\n",
    "                new_tracks.loc[index, 'bl'] = 1\n",
    "    new_tracks = new_tracks[new_tracks.bl == 0]\n",
    "    new_tracks.reset_index(inplace=True)\n",
    "    \n",
    "    # Stash artists\n",
    "    print(\"Writing back to playlist.\")\n",
    "    if len(new_tracks) < 1:\n",
    "        print(\"Playlist Empty, no new releases. Try again later.\")\n",
    "    else:\n",
    "        add_tracks_to_playlist(user_id, output, new_tracks['id'].unique())"
   ]
  },
  {
   "cell_type": "code",
   "execution_count": 4,
   "metadata": {
    "code_folding": []
   },
   "outputs": [],
   "source": [
    "# Params - date from which to look\n",
    "# Last did this on 2020-04-15\n",
    "date = '2020-03-11'\n",
    "\n",
    "# Input Playlists\n",
    "archive = '0f6FAq46WiTMvhixj6wwoo'\n",
    "good_stuff = '7ijVxjm7HU4x9r242Y8U3V'\n",
    "tiaptp_archive = '3Rr0eHGWeCO2uOuVld6RpD'\n",
    "much_needed = '7N3pwZE1N38wcdiuLxiPvq'\n",
    "classica_buena = '5uEns0vv1dU4rVsrTNV6j5'\n",
    "instrumental = '1Q8WS7Xj51WCHZctXGDsrp'\n",
    "\n",
    "# Output Playlists\n",
    "playlist_modern_id = '75lIJUDbzWFyIG6FIaJeJe'\n",
    "playlist_classical_id = '4NUw6Lt9XLI4dAVjwaLhVx'\n",
    "output_tiaptp_archive = '5wRSpTyhBd3xovasGyZH6l'\n",
    "output_much_needed = '350FAK7sVjaaWx47AAmMiD'\n",
    "output_instrumental = '7jAmYtUazkJGFXBCjTBBMh'"
   ]
  },
  {
   "cell_type": "code",
   "execution_count": 9,
   "metadata": {
    "code_folding": [],
    "scrolled": false
   },
   "outputs": [
    {
     "name": "stdout",
     "output_type": "stream",
     "text": [
      "Obtaining a track list.\n",
      "Artists already scraped, reading in . . .\n",
      "Finding new album releases for artists . . .\n",
      "Albums not scraped, scraping now . . .\n"
     ]
    },
    {
     "data": {
      "application/vnd.jupyter.widget-view+json": {
       "model_id": "22e7fa922aa145319a39d47260caf44e",
       "version_major": 2,
       "version_minor": 0
      },
      "text/plain": [
       "HBox(children=(IntProgress(value=0, max=10259), HTML(value='')))"
      ]
     },
     "metadata": {},
     "output_type": "display_data"
    },
    {
     "ename": "SpotifyException",
     "evalue": "http status: 401, code:-1 - https://api.spotify.com/v1/artists/3XPC0v9mtsGYMsdfkxkyFL/albums?album_type=album&limit=50&offset=0:\n The access token expired",
     "output_type": "error",
     "traceback": [
      "\u001b[1;31m---------------------------------------------------------------------------\u001b[0m",
      "\u001b[1;31mHTTPError\u001b[0m                                 Traceback (most recent call last)",
      "\u001b[1;32mC:\\ProgramData\\Anaconda3\\lib\\site-packages\\spotipy\\client.py\u001b[0m in \u001b[0;36m_internal_call\u001b[1;34m(self, method, url, payload, params)\u001b[0m\n\u001b[0;32m    118\u001b[0m         \u001b[1;32mtry\u001b[0m\u001b[1;33m:\u001b[0m\u001b[1;33m\u001b[0m\u001b[1;33m\u001b[0m\u001b[0m\n\u001b[1;32m--> 119\u001b[1;33m             \u001b[0mr\u001b[0m\u001b[1;33m.\u001b[0m\u001b[0mraise_for_status\u001b[0m\u001b[1;33m(\u001b[0m\u001b[1;33m)\u001b[0m\u001b[1;33m\u001b[0m\u001b[1;33m\u001b[0m\u001b[0m\n\u001b[0m\u001b[0;32m    120\u001b[0m         \u001b[1;32mexcept\u001b[0m\u001b[1;33m:\u001b[0m\u001b[1;33m\u001b[0m\u001b[1;33m\u001b[0m\u001b[0m\n",
      "\u001b[1;32mC:\\ProgramData\\Anaconda3\\lib\\site-packages\\requests\\models.py\u001b[0m in \u001b[0;36mraise_for_status\u001b[1;34m(self)\u001b[0m\n\u001b[0;32m    939\u001b[0m         \u001b[1;32mif\u001b[0m \u001b[0mhttp_error_msg\u001b[0m\u001b[1;33m:\u001b[0m\u001b[1;33m\u001b[0m\u001b[1;33m\u001b[0m\u001b[0m\n\u001b[1;32m--> 940\u001b[1;33m             \u001b[1;32mraise\u001b[0m \u001b[0mHTTPError\u001b[0m\u001b[1;33m(\u001b[0m\u001b[0mhttp_error_msg\u001b[0m\u001b[1;33m,\u001b[0m \u001b[0mresponse\u001b[0m\u001b[1;33m=\u001b[0m\u001b[0mself\u001b[0m\u001b[1;33m)\u001b[0m\u001b[1;33m\u001b[0m\u001b[1;33m\u001b[0m\u001b[0m\n\u001b[0m\u001b[0;32m    941\u001b[0m \u001b[1;33m\u001b[0m\u001b[0m\n",
      "\u001b[1;31mHTTPError\u001b[0m: 401 Client Error: Unauthorized for url: https://api.spotify.com/v1/artists/3XPC0v9mtsGYMsdfkxkyFL/albums?album_type=album&limit=50&offset=0",
      "\nDuring handling of the above exception, another exception occurred:\n",
      "\u001b[1;31mSpotifyException\u001b[0m                          Traceback (most recent call last)",
      "\u001b[1;32m<ipython-input-9-0b4f2814fcf6>\u001b[0m in \u001b[0;36m<module>\u001b[1;34m\u001b[0m\n\u001b[0;32m      1\u001b[0m \u001b[1;31m# Generate the Storm\u001b[0m\u001b[1;33m\u001b[0m\u001b[1;33m\u001b[0m\u001b[1;33m\u001b[0m\u001b[0m\n\u001b[1;32m----> 2\u001b[1;33m \u001b[0mgenerateTheStorm\u001b[0m\u001b[1;33m(\u001b[0m\u001b[0muser_id\u001b[0m\u001b[1;33m,\u001b[0m \u001b[0mdate\u001b[0m\u001b[1;33m)\u001b[0m\u001b[1;33m\u001b[0m\u001b[1;33m\u001b[0m\u001b[0m\n\u001b[0m",
      "\u001b[1;32m<ipython-input-8-7d9e5ce47446>\u001b[0m in \u001b[0;36mgenerateTheStorm\u001b[1;34m(user_id, date)\u001b[0m\n\u001b[0;32m    228\u001b[0m     \u001b[1;32melse\u001b[0m\u001b[1;33m:\u001b[0m\u001b[1;33m\u001b[0m\u001b[1;33m\u001b[0m\u001b[0m\n\u001b[0;32m    229\u001b[0m         \u001b[0mprint\u001b[0m\u001b[1;33m(\u001b[0m\u001b[1;34m\"Albums not scraped, scraping now . . .\"\u001b[0m\u001b[1;33m)\u001b[0m\u001b[1;33m\u001b[0m\u001b[1;33m\u001b[0m\u001b[0m\n\u001b[1;32m--> 230\u001b[1;33m         \u001b[0malbum_df\u001b[0m \u001b[1;33m=\u001b[0m \u001b[0mget_artist_albums\u001b[0m\u001b[1;33m(\u001b[0m\u001b[0mdate\u001b[0m\u001b[1;33m,\u001b[0m \u001b[0martist_ids\u001b[0m\u001b[1;33m)\u001b[0m\u001b[1;33m.\u001b[0m\u001b[0mreset_index\u001b[0m\u001b[1;33m(\u001b[0m\u001b[1;33m)\u001b[0m\u001b[1;33m\u001b[0m\u001b[1;33m\u001b[0m\u001b[0m\n\u001b[0m\u001b[0;32m    231\u001b[0m         \u001b[0malbum_df\u001b[0m\u001b[1;33m.\u001b[0m\u001b[0mto_csv\u001b[0m\u001b[1;33m(\u001b[0m\u001b[1;34m'albumdf_'\u001b[0m\u001b[1;33m+\u001b[0m\u001b[0mdate\u001b[0m\u001b[1;33m+\u001b[0m\u001b[1;34m'.csv'\u001b[0m\u001b[1;33m,\u001b[0m \u001b[0mindex\u001b[0m\u001b[1;33m=\u001b[0m\u001b[1;32mFalse\u001b[0m\u001b[1;33m)\u001b[0m\u001b[1;33m\u001b[0m\u001b[1;33m\u001b[0m\u001b[0m\n\u001b[0;32m    232\u001b[0m \u001b[1;33m\u001b[0m\u001b[0m\n",
      "\u001b[1;32m<ipython-input-8-7d9e5ce47446>\u001b[0m in \u001b[0;36mget_artist_albums\u001b[1;34m(date, artist_ids)\u001b[0m\n\u001b[0;32m     40\u001b[0m \u001b[1;33m\u001b[0m\u001b[0m\n\u001b[0;32m     41\u001b[0m     \u001b[1;32mfor\u001b[0m \u001b[0martist_id\u001b[0m \u001b[1;32min\u001b[0m \u001b[0mtqdm\u001b[0m\u001b[1;33m(\u001b[0m\u001b[0martist_ids\u001b[0m\u001b[1;33m)\u001b[0m\u001b[1;33m:\u001b[0m\u001b[1;33m\u001b[0m\u001b[1;33m\u001b[0m\u001b[0m\n\u001b[1;32m---> 42\u001b[1;33m         \u001b[0mresponse\u001b[0m \u001b[1;33m=\u001b[0m \u001b[0msp\u001b[0m\u001b[1;33m.\u001b[0m\u001b[0martist_albums\u001b[0m\u001b[1;33m(\u001b[0m\u001b[0martist_id\u001b[0m\u001b[1;33m,\u001b[0m \u001b[0mlimit\u001b[0m\u001b[1;33m=\u001b[0m\u001b[0mlim\u001b[0m\u001b[1;33m,\u001b[0m \u001b[0malbum_type\u001b[0m\u001b[1;33m=\u001b[0m\u001b[1;34m'album'\u001b[0m\u001b[1;33m)\u001b[0m\u001b[1;33m\u001b[0m\u001b[1;33m\u001b[0m\u001b[0m\n\u001b[0m\u001b[0;32m     43\u001b[0m         \u001b[0moffset\u001b[0m \u001b[1;33m=\u001b[0m \u001b[1;36m0\u001b[0m\u001b[1;33m\u001b[0m\u001b[1;33m\u001b[0m\u001b[0m\n\u001b[0;32m     44\u001b[0m         \u001b[0mmore_albums\u001b[0m \u001b[1;33m=\u001b[0m \u001b[1;32mTrue\u001b[0m\u001b[1;33m\u001b[0m\u001b[1;33m\u001b[0m\u001b[0m\n",
      "\u001b[1;32mC:\\ProgramData\\Anaconda3\\lib\\site-packages\\spotipy\\client.py\u001b[0m in \u001b[0;36martist_albums\u001b[1;34m(self, artist_id, album_type, country, limit, offset)\u001b[0m\n\u001b[0;32m    268\u001b[0m         \u001b[0mtrid\u001b[0m \u001b[1;33m=\u001b[0m \u001b[0mself\u001b[0m\u001b[1;33m.\u001b[0m\u001b[0m_get_id\u001b[0m\u001b[1;33m(\u001b[0m\u001b[1;34m'artist'\u001b[0m\u001b[1;33m,\u001b[0m \u001b[0martist_id\u001b[0m\u001b[1;33m)\u001b[0m\u001b[1;33m\u001b[0m\u001b[1;33m\u001b[0m\u001b[0m\n\u001b[0;32m    269\u001b[0m         return self._get('artists/' + trid + '/albums', album_type=album_type,\n\u001b[1;32m--> 270\u001b[1;33m                          country=country, limit=limit, offset=offset)\n\u001b[0m\u001b[0;32m    271\u001b[0m \u001b[1;33m\u001b[0m\u001b[0m\n\u001b[0;32m    272\u001b[0m     \u001b[1;32mdef\u001b[0m \u001b[0martist_top_tracks\u001b[0m\u001b[1;33m(\u001b[0m\u001b[0mself\u001b[0m\u001b[1;33m,\u001b[0m \u001b[0martist_id\u001b[0m\u001b[1;33m,\u001b[0m \u001b[0mcountry\u001b[0m\u001b[1;33m=\u001b[0m\u001b[1;34m'US'\u001b[0m\u001b[1;33m)\u001b[0m\u001b[1;33m:\u001b[0m\u001b[1;33m\u001b[0m\u001b[1;33m\u001b[0m\u001b[0m\n",
      "\u001b[1;32mC:\\ProgramData\\Anaconda3\\lib\\site-packages\\spotipy\\client.py\u001b[0m in \u001b[0;36m_get\u001b[1;34m(self, url, args, payload, **kwargs)\u001b[0m\n\u001b[0;32m    144\u001b[0m         \u001b[1;32mwhile\u001b[0m \u001b[0mretries\u001b[0m \u001b[1;33m>\u001b[0m \u001b[1;36m0\u001b[0m\u001b[1;33m:\u001b[0m\u001b[1;33m\u001b[0m\u001b[1;33m\u001b[0m\u001b[0m\n\u001b[0;32m    145\u001b[0m             \u001b[1;32mtry\u001b[0m\u001b[1;33m:\u001b[0m\u001b[1;33m\u001b[0m\u001b[1;33m\u001b[0m\u001b[0m\n\u001b[1;32m--> 146\u001b[1;33m                 \u001b[1;32mreturn\u001b[0m \u001b[0mself\u001b[0m\u001b[1;33m.\u001b[0m\u001b[0m_internal_call\u001b[0m\u001b[1;33m(\u001b[0m\u001b[1;34m'GET'\u001b[0m\u001b[1;33m,\u001b[0m \u001b[0murl\u001b[0m\u001b[1;33m,\u001b[0m \u001b[0mpayload\u001b[0m\u001b[1;33m,\u001b[0m \u001b[0mkwargs\u001b[0m\u001b[1;33m)\u001b[0m\u001b[1;33m\u001b[0m\u001b[1;33m\u001b[0m\u001b[0m\n\u001b[0m\u001b[0;32m    147\u001b[0m             \u001b[1;32mexcept\u001b[0m \u001b[0mSpotifyException\u001b[0m \u001b[1;32mas\u001b[0m \u001b[0me\u001b[0m\u001b[1;33m:\u001b[0m\u001b[1;33m\u001b[0m\u001b[1;33m\u001b[0m\u001b[0m\n\u001b[0;32m    148\u001b[0m                 \u001b[0mretries\u001b[0m \u001b[1;33m-=\u001b[0m \u001b[1;36m1\u001b[0m\u001b[1;33m\u001b[0m\u001b[1;33m\u001b[0m\u001b[0m\n",
      "\u001b[1;32mC:\\ProgramData\\Anaconda3\\lib\\site-packages\\spotipy\\client.py\u001b[0m in \u001b[0;36m_internal_call\u001b[1;34m(self, method, url, payload, params)\u001b[0m\n\u001b[0;32m    122\u001b[0m                 raise SpotifyException(r.status_code,\n\u001b[0;32m    123\u001b[0m                     \u001b[1;33m-\u001b[0m\u001b[1;36m1\u001b[0m\u001b[1;33m,\u001b[0m \u001b[1;34m'%s:\\n %s'\u001b[0m \u001b[1;33m%\u001b[0m \u001b[1;33m(\u001b[0m\u001b[0mr\u001b[0m\u001b[1;33m.\u001b[0m\u001b[0murl\u001b[0m\u001b[1;33m,\u001b[0m \u001b[0mr\u001b[0m\u001b[1;33m.\u001b[0m\u001b[0mjson\u001b[0m\u001b[1;33m(\u001b[0m\u001b[1;33m)\u001b[0m\u001b[1;33m[\u001b[0m\u001b[1;34m'error'\u001b[0m\u001b[1;33m]\u001b[0m\u001b[1;33m[\u001b[0m\u001b[1;34m'message'\u001b[0m\u001b[1;33m]\u001b[0m\u001b[1;33m)\u001b[0m\u001b[1;33m,\u001b[0m\u001b[1;33m\u001b[0m\u001b[1;33m\u001b[0m\u001b[0m\n\u001b[1;32m--> 124\u001b[1;33m                     headers=r.headers)\n\u001b[0m\u001b[0;32m    125\u001b[0m             \u001b[1;32melse\u001b[0m\u001b[1;33m:\u001b[0m\u001b[1;33m\u001b[0m\u001b[1;33m\u001b[0m\u001b[0m\n\u001b[0;32m    126\u001b[0m                 raise SpotifyException(r.status_code,\n",
      "\u001b[1;31mSpotifyException\u001b[0m: http status: 401, code:-1 - https://api.spotify.com/v1/artists/3XPC0v9mtsGYMsdfkxkyFL/albums?album_type=album&limit=50&offset=0:\n The access token expired"
     ]
    }
   ],
   "source": [
    "# Generate the Storm\n",
    "generateTheStorm(user_id, date)"
   ]
  },
  {
   "cell_type": "code",
   "execution_count": 11,
   "metadata": {},
   "outputs": [
    {
     "name": "stdout",
     "output_type": "stream",
     "text": [
      "Obtaining a list of Tracks from Playlist . . .\n",
      "Finding Artists . . .\n",
      "Removing Classical Artists.\n"
     ]
    },
    {
     "data": {
      "application/vnd.jupyter.widget-view+json": {
       "model_id": "8dfbedbccc8e4b35bf2435a9a5f652d7",
       "version_major": 2,
       "version_minor": 0
      },
      "text/plain": [
       "HBox(children=(IntProgress(value=0, max=867), HTML(value='')))"
      ]
     },
     "metadata": {},
     "output_type": "display_data"
    },
    {
     "name": "stdout",
     "output_type": "stream",
     "text": [
      "Finding new album releases for artists . . .\n"
     ]
    },
    {
     "data": {
      "application/vnd.jupyter.widget-view+json": {
       "model_id": "76b48fbae04649e99626a9d1d22668da",
       "version_major": 2,
       "version_minor": 0
      },
      "text/plain": [
       "HBox(children=(IntProgress(value=0, max=867), HTML(value='')))"
      ]
     },
     "metadata": {},
     "output_type": "display_data"
    },
    {
     "data": {
      "application/vnd.jupyter.widget-view+json": {
       "model_id": "67533d3f636942f6a1816a6cf18eaa41",
       "version_major": 2,
       "version_minor": 0
      },
      "text/plain": [
       "HBox(children=(IntProgress(value=0, max=18), HTML(value='')))"
      ]
     },
     "metadata": {},
     "output_type": "display_data"
    },
    {
     "name": "stdout",
     "output_type": "stream",
     "text": [
      "Writing back to playlist.\n"
     ]
    },
    {
     "data": {
      "application/vnd.jupyter.widget-view+json": {
       "model_id": "b624b3bf413c401f98ff6a324405a131",
       "version_major": 2,
       "version_minor": 0
      },
      "text/plain": [
       "HBox(children=(IntProgress(value=0, max=2), HTML(value='')))"
      ]
     },
     "metadata": {},
     "output_type": "display_data"
    },
    {
     "name": "stdout",
     "output_type": "stream",
     "text": [
      "Obtaining a list of Tracks from Playlist . . .\n",
      "Finding Artists . . .\n",
      "Finding new album releases for artists . . .\n"
     ]
    },
    {
     "data": {
      "application/vnd.jupyter.widget-view+json": {
       "model_id": "57f8744a13444c1bbd6bac516322e767",
       "version_major": 2,
       "version_minor": 0
      },
      "text/plain": [
       "HBox(children=(IntProgress(value=0, max=388), HTML(value='')))"
      ]
     },
     "metadata": {},
     "output_type": "display_data"
    },
    {
     "data": {
      "application/vnd.jupyter.widget-view+json": {
       "model_id": "0d592e4835544b2490711306ee52a503",
       "version_major": 2,
       "version_minor": 0
      },
      "text/plain": [
       "HBox(children=(IntProgress(value=0, max=108), HTML(value='')))"
      ]
     },
     "metadata": {},
     "output_type": "display_data"
    },
    {
     "name": "stdout",
     "output_type": "stream",
     "text": [
      "Writing back to playlist.\n"
     ]
    },
    {
     "data": {
      "application/vnd.jupyter.widget-view+json": {
       "model_id": "1ed26cd6a4c64a2da1ecacc3dd5d9374",
       "version_major": 2,
       "version_minor": 0
      },
      "text/plain": [
       "HBox(children=(IntProgress(value=0, max=20), HTML(value='')))"
      ]
     },
     "metadata": {},
     "output_type": "display_data"
    }
   ],
   "source": [
    "# Generate Classical and Lyrical Storms\n",
    "generateStorm(archive, playlist_modern_id, user_id, date)\n",
    "generateStorm(classica_buena, playlist_classical_id, user_id, date, classical=True)"
   ]
  }
 ],
 "metadata": {
  "kernelspec": {
   "display_name": "Python 3",
   "language": "python",
   "name": "python3"
  },
  "language_info": {
   "codemirror_mode": {
    "name": "ipython",
    "version": 3
   },
   "file_extension": ".py",
   "mimetype": "text/x-python",
   "name": "python",
   "nbconvert_exporter": "python",
   "pygments_lexer": "ipython3",
   "version": "3.7.3"
  }
 },
 "nbformat": 4,
 "nbformat_minor": 2
}
