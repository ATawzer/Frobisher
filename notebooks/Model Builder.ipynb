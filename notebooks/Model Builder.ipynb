{
 "cells": [
  {
   "cell_type": "code",
   "execution_count": 1,
   "id": "9fe98992",
   "metadata": {},
   "outputs": [],
   "source": [
    "import sys\n",
    "sys.path.append(\"..\") # To get storm code"
   ]
  },
  {
   "cell_type": "code",
   "execution_count": 2,
   "id": "c1b38ef3",
   "metadata": {},
   "outputs": [],
   "source": [
    "from src.weatherboy import *\n",
    "from src.db import *"
   ]
  },
  {
   "cell_type": "markdown",
   "id": "44e8c039",
   "metadata": {},
   "source": [
    "## Training Population (Simulated Runs)\n",
    "The fake runner can be used to perform run simulations against the database. This is not connected to Spotify, only the storm backend you've created thus far. When the storm is freshly configured it doesn't have a consistent history to model on, so the fake runner will build out a sample population under one large assumption: <b>You've heard every track by every artist in your targets and have picked only the ones you like.</b> This is likely false, but so long as it is directionally true it should be sufficient."
   ]
  },
  {
   "cell_type": "code",
   "execution_count": 7,
   "id": "287da973",
   "metadata": {},
   "outputs": [
    {
     "ename": "NameError",
     "evalue": "name 'FakeRunner' is not defined",
     "output_type": "error",
     "traceback": [
      "\u001b[0;31m---------------------------------------------------------------------------\u001b[0m",
      "\u001b[0;31mNameError\u001b[0m                                 Traceback (most recent call last)",
      "\u001b[0;32m<ipython-input-7-7d470488029d>\u001b[0m in \u001b[0;36m<module>\u001b[0;34m\u001b[0m\n\u001b[0;32m----> 1\u001b[0;31m \u001b[0mfr\u001b[0m \u001b[0;34m=\u001b[0m \u001b[0mFakeRunner\u001b[0m\u001b[0;34m(\u001b[0m\u001b[0;34m'film_vg_instrumental'\u001b[0m\u001b[0;34m,\u001b[0m \u001b[0;34m'2020-01-07'\u001b[0m\u001b[0;34m,\u001b[0m \u001b[0;34m'2020-01-14'\u001b[0m\u001b[0;34m)\u001b[0m\u001b[0;34m\u001b[0m\u001b[0;34m\u001b[0m\u001b[0m\n\u001b[0m\u001b[1;32m      2\u001b[0m \u001b[0mfr_tracks\u001b[0m \u001b[0;34m=\u001b[0m \u001b[0mfr\u001b[0m\u001b[0;34m.\u001b[0m\u001b[0mRun\u001b[0m\u001b[0;34m(\u001b[0m\u001b[0;34m)\u001b[0m\u001b[0;34m\u001b[0m\u001b[0;34m\u001b[0m\u001b[0m\n",
      "\u001b[0;31mNameError\u001b[0m: name 'FakeRunner' is not defined"
     ]
    }
   ],
   "source": [
    "fr = FakeRunner('film_vg_instrumental', '2020-01-07', '2020-01-14')\n",
    "fr_tracks = fr.Run()"
   ]
  },
  {
   "cell_type": "markdown",
   "id": "9367776c",
   "metadata": {},
   "source": [
    "## Pipeline and model\n",
    "The pipeline from the backend to the modeling ecosystem. Using a set of tracks as your total population, the pipeline serves as a mechanism for obtaining features for every track (including the target variables). As artist-level and album-level features get added they will be sourced through this mechanism as well. Additionally, as is important for data-centrism, the pipeline configuration is stored alongside the model, meaning a model is both a <b>pipeline+method</b>\n",
    "\n",
    "Since the fakerunner has already run, the modeling component only exists beneath these steps. Each model and pipeline tried will be automatically registered. Registry contains the method and pipeline information needed to evaluate the model. All registered models can be evaluated side by side. If there is a model that does particularly well you can prdocutionalize it by calling:\n",
    "\n",
    "```WeatherBoyPipeline().move_model_to_production(model_name, storm_name)```\n",
    "\n",
    "This will add the model into the storm's configuration and will now be leveraged on subsequent runs."
   ]
  },
  {
   "cell_type": "code",
   "execution_count": null,
   "id": "9d385e89",
   "metadata": {},
   "outputs": [],
   "source": [
    "# Load a pipeline\n",
    "wbp = WeatherBoyPipeline(fr_tracks['storm_tracks'], \n",
    "                         storm_name='film_vg_instrumental',\n",
    "                         features={'_id':0, \n",
    "                                   'album_id':0, \n",
    "                                   'last_updated':0,\n",
    "                                   'name':0,\n",
    "                                   'time_signature':0,\n",
    "                                   'artists':0},\n",
    "                        train=True)\n",
    "wbp.load()"
   ]
  },
  {
   "cell_type": "code",
   "execution_count": 6,
   "id": "8c0f4f89",
   "metadata": {},
   "outputs": [
    {
     "data": {
      "text/plain": [
       "[]"
      ]
     },
     "execution_count": 6,
     "metadata": {},
     "output_type": "execute_result"
    }
   ],
   "source": [
    "wbm = WeatherBoyModel(output_dir='../models')"
   ]
  },
  {
   "cell_type": "code",
   "execution_count": null,
   "id": "9992cb80",
   "metadata": {},
   "outputs": [],
   "source": []
  }
 ],
 "metadata": {
  "kernelspec": {
   "display_name": "Python 3",
   "language": "python",
   "name": "python3"
  },
  "language_info": {
   "codemirror_mode": {
    "name": "ipython",
    "version": 3
   },
   "file_extension": ".py",
   "mimetype": "text/x-python",
   "name": "python",
   "nbconvert_exporter": "python",
   "pygments_lexer": "ipython3",
   "version": "3.9.4"
  }
 },
 "nbformat": 4,
 "nbformat_minor": 5
}
