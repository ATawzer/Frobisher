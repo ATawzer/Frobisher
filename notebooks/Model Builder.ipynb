{
 "cells": [
  {
   "cell_type": "code",
   "execution_count": 45,
   "id": "9fe98992",
   "metadata": {},
   "outputs": [],
   "source": [
    "import sys\n",
    "sys.path.append(\"..\") # To get storm code\n",
    "\n",
    "import pandas as pd\n",
    "import numpy as np\n",
    "\n",
    "from sklearn import tree\n",
    "from sklearn.model_selection import train_test_split\n",
    "from sklearn.metrics import ConfusionMatrixDisplay, confusion_matrix\n",
    "from sklearn.utils import shuffle\n",
    "from sklearn.pipeline import Pipeline\n",
    "from sklearn.base import BaseEstimator, TransformerMixin\n",
    "from sklearn.impute import SimpleImputer\n",
    "import joblib\n",
    "\n",
    "from typing import List, Dict"
   ]
  },
  {
   "cell_type": "code",
   "execution_count": 2,
   "id": "26f8a539",
   "metadata": {},
   "outputs": [],
   "source": [
    "# Internal imports\n",
    "from src.db import StormDB\n",
    "\n",
    "sdb = StormDB()"
   ]
  },
  {
   "cell_type": "markdown",
   "id": "06a4f4c6",
   "metadata": {},
   "source": [
    "# Helper\n",
    "Not everything exists in the codebase, helper functions that might need to be added in future version will be here"
   ]
  },
  {
   "cell_type": "code",
   "execution_count": 39,
   "id": "ef4e14d8",
   "metadata": {},
   "outputs": [],
   "source": [
    "class FeatureSelector(BaseEstimator, TransformerMixin):\n",
    "        \n",
    "    def __init__(self, feature_names=[]):\n",
    "        self.feature_names = feature_names\n",
    "\n",
    "    def fit(self, X, y = None):\n",
    "        return self \n",
    "\n",
    "    def transform(self, X, y = None):\n",
    "        return X[self.feature_names]"
   ]
  },
  {
   "cell_type": "markdown",
   "id": "68801a2b",
   "metadata": {},
   "source": [
    "# Preparation\n",
    "During Storm runs the Weatherboy (instantiated model wrapper) will be handed a list of track ids that need results. It will then on its own have to source the necessary fields, process them and return prediction. **The model pipeline itself starts upon retrieval of the necessary fields.** From there it will be transformed, imputed and scored by the model. This preparation step must be kept minimal, no filtering no transforming, nothing that a simple weatherboy pipeline could not handle and nothing the model is doing."
   ]
  },
  {
   "cell_type": "code",
   "execution_count": 4,
   "id": "13e35f31",
   "metadata": {},
   "outputs": [],
   "source": [
    "storm_name = 'film_vg_instrumental_v2'\n",
    "fields = {'last_updated':0} # The only fields not needed are the metadata for runs"
   ]
  },
  {
   "cell_type": "code",
   "execution_count": 6,
   "id": "9992cb80",
   "metadata": {},
   "outputs": [],
   "source": [
    "# First grab the targets. These will be 1s in the prediction\n",
    "target_playlist = sdb.get_config('film_vg_instrumental_v2')['great_targets']\n",
    "target_track_ids = sdb.get_loaded_playlist_tracks(target_playlist)\n",
    "target_tracks = sdb.get_track_info(target_track_ids, fields=fields)"
   ]
  },
  {
   "cell_type": "code",
   "execution_count": 7,
   "id": "d309d75f",
   "metadata": {},
   "outputs": [],
   "source": [
    "# Next we need to get a sample of tracks that are not 1s. For a first pass we will\n",
    "# grab everything by the artists in the last 5 years. We will sample downstream\n",
    "\n",
    "artists = []\n",
    "[artists.extend(track['artists']) for track in target_tracks]\n",
    "\n",
    "non_target_track_ids = sdb.get_tracks_from_artists(artists, start_date='2017-01-01', end_date='2023-01-01')\n",
    "non_target_tracks = sdb.get_track_info(non_target_track_ids, fields=fields)"
   ]
  },
  {
   "cell_type": "code",
   "execution_count": 8,
   "id": "6e68e8f7",
   "metadata": {},
   "outputs": [],
   "source": [
    "# unify into one dataframe\n",
    "df = (\n",
    "    pd.DataFrame.from_records(target_tracks+non_target_tracks)\n",
    "    .drop_duplicates('_id')\n",
    "    .set_index('_id')\n",
    ")\n",
    "\n",
    "df['target'] = 0\n",
    "df.loc[df[df.index.isin(target_track_ids)].index, 'target'] = 1"
   ]
  },
  {
   "cell_type": "code",
   "execution_count": 9,
   "id": "2225d89d",
   "metadata": {},
   "outputs": [
    {
     "data": {
      "text/plain": [
       "0    233\n",
       "1    191\n",
       "Name: target, dtype: int64"
      ]
     },
     "execution_count": 9,
     "metadata": {},
     "output_type": "execute_result"
    }
   ],
   "source": [
    "# Create an even sample of tracks, this won't happen during runs\n",
    "sampled = shuffle(df.groupby('target').head(len(target_track_ids)), random_state=42)\n",
    "sampled.target.value_counts()"
   ]
  },
  {
   "cell_type": "markdown",
   "id": "b50bc161",
   "metadata": {},
   "source": [
    "# Modeling\n",
    "We want to try and predict the songs that I like. Out of 25,676, only ~200 are 'great_targets', which is a <.5% discovery rate. Every Transformation will be stored in an SKLearn pipeline for easy saving and loading. "
   ]
  },
  {
   "cell_type": "code",
   "execution_count": 11,
   "id": "b86bfcc8",
   "metadata": {},
   "outputs": [],
   "source": [
    "X_train, X_test, y_train, y_test = train_test_split(sampled, sampled['target'])"
   ]
  },
  {
   "cell_type": "markdown",
   "id": "81e23483",
   "metadata": {},
   "source": [
    "## Sample Model Run\n",
    "This is prototype of a model pipeline fit and save"
   ]
  },
  {
   "cell_type": "code",
   "execution_count": 40,
   "id": "cb3c126c",
   "metadata": {},
   "outputs": [],
   "source": [
    "model_name = 'base_all_features__dtc_test' # For use in model registry\n",
    "\n",
    "model_pipeline = Pipeline([\n",
    "    ('feature_selection', FeatureSelector(\n",
    "        feature_names = [\n",
    "            'duration_ms', \n",
    "            'acousticness',\n",
    "            'danceability', \n",
    "            'energy', \n",
    "            'instrumentalness', \n",
    "            'key',\n",
    "            'liveness', \n",
    "            'loudness', \n",
    "            'mode', \n",
    "            'speechiness', \n",
    "            'tempo',\n",
    "            'time_signature', \n",
    "            'valence'\n",
    "        ])\n",
    "    ),\n",
    "    ('imputer', SimpleImputer(strategy='constant', fill_value=.5)),\n",
    "    ('clf', tree.DecisionTreeClassifier(\n",
    "        class_weight={0:.05, 1:.95}, \n",
    "        max_depth=8)\n",
    "    )\n",
    "])"
   ]
  },
  {
   "cell_type": "code",
   "execution_count": 41,
   "id": "b9236cc2",
   "metadata": {},
   "outputs": [
    {
     "data": {
      "text/html": [
       "<style>#sk-container-id-4 {color: black;background-color: white;}#sk-container-id-4 pre{padding: 0;}#sk-container-id-4 div.sk-toggleable {background-color: white;}#sk-container-id-4 label.sk-toggleable__label {cursor: pointer;display: block;width: 100%;margin-bottom: 0;padding: 0.3em;box-sizing: border-box;text-align: center;}#sk-container-id-4 label.sk-toggleable__label-arrow:before {content: \"▸\";float: left;margin-right: 0.25em;color: #696969;}#sk-container-id-4 label.sk-toggleable__label-arrow:hover:before {color: black;}#sk-container-id-4 div.sk-estimator:hover label.sk-toggleable__label-arrow:before {color: black;}#sk-container-id-4 div.sk-toggleable__content {max-height: 0;max-width: 0;overflow: hidden;text-align: left;background-color: #f0f8ff;}#sk-container-id-4 div.sk-toggleable__content pre {margin: 0.2em;color: black;border-radius: 0.25em;background-color: #f0f8ff;}#sk-container-id-4 input.sk-toggleable__control:checked~div.sk-toggleable__content {max-height: 200px;max-width: 100%;overflow: auto;}#sk-container-id-4 input.sk-toggleable__control:checked~label.sk-toggleable__label-arrow:before {content: \"▾\";}#sk-container-id-4 div.sk-estimator input.sk-toggleable__control:checked~label.sk-toggleable__label {background-color: #d4ebff;}#sk-container-id-4 div.sk-label input.sk-toggleable__control:checked~label.sk-toggleable__label {background-color: #d4ebff;}#sk-container-id-4 input.sk-hidden--visually {border: 0;clip: rect(1px 1px 1px 1px);clip: rect(1px, 1px, 1px, 1px);height: 1px;margin: -1px;overflow: hidden;padding: 0;position: absolute;width: 1px;}#sk-container-id-4 div.sk-estimator {font-family: monospace;background-color: #f0f8ff;border: 1px dotted black;border-radius: 0.25em;box-sizing: border-box;margin-bottom: 0.5em;}#sk-container-id-4 div.sk-estimator:hover {background-color: #d4ebff;}#sk-container-id-4 div.sk-parallel-item::after {content: \"\";width: 100%;border-bottom: 1px solid gray;flex-grow: 1;}#sk-container-id-4 div.sk-label:hover label.sk-toggleable__label {background-color: #d4ebff;}#sk-container-id-4 div.sk-serial::before {content: \"\";position: absolute;border-left: 1px solid gray;box-sizing: border-box;top: 0;bottom: 0;left: 50%;z-index: 0;}#sk-container-id-4 div.sk-serial {display: flex;flex-direction: column;align-items: center;background-color: white;padding-right: 0.2em;padding-left: 0.2em;position: relative;}#sk-container-id-4 div.sk-item {position: relative;z-index: 1;}#sk-container-id-4 div.sk-parallel {display: flex;align-items: stretch;justify-content: center;background-color: white;position: relative;}#sk-container-id-4 div.sk-item::before, #sk-container-id-4 div.sk-parallel-item::before {content: \"\";position: absolute;border-left: 1px solid gray;box-sizing: border-box;top: 0;bottom: 0;left: 50%;z-index: -1;}#sk-container-id-4 div.sk-parallel-item {display: flex;flex-direction: column;z-index: 1;position: relative;background-color: white;}#sk-container-id-4 div.sk-parallel-item:first-child::after {align-self: flex-end;width: 50%;}#sk-container-id-4 div.sk-parallel-item:last-child::after {align-self: flex-start;width: 50%;}#sk-container-id-4 div.sk-parallel-item:only-child::after {width: 0;}#sk-container-id-4 div.sk-dashed-wrapped {border: 1px dashed gray;margin: 0 0.4em 0.5em 0.4em;box-sizing: border-box;padding-bottom: 0.4em;background-color: white;}#sk-container-id-4 div.sk-label label {font-family: monospace;font-weight: bold;display: inline-block;line-height: 1.2em;}#sk-container-id-4 div.sk-label-container {text-align: center;}#sk-container-id-4 div.sk-container {/* jupyter's `normalize.less` sets `[hidden] { display: none; }` but bootstrap.min.css set `[hidden] { display: none !important; }` so we also need the `!important` here to be able to override the default hidden behavior on the sphinx rendered scikit-learn.org. See: https://github.com/scikit-learn/scikit-learn/issues/21755 */display: inline-block !important;position: relative;}#sk-container-id-4 div.sk-text-repr-fallback {display: none;}</style><div id=\"sk-container-id-4\" class=\"sk-top-container\"><div class=\"sk-text-repr-fallback\"><pre>Pipeline(steps=[(&#x27;feature_selection&#x27;,\n",
       "                 FeatureSelector(feature_names=[&#x27;duration_ms&#x27;, &#x27;acousticness&#x27;,\n",
       "                                                &#x27;danceability&#x27;, &#x27;energy&#x27;,\n",
       "                                                &#x27;instrumentalness&#x27;, &#x27;key&#x27;,\n",
       "                                                &#x27;liveness&#x27;, &#x27;loudness&#x27;, &#x27;mode&#x27;,\n",
       "                                                &#x27;speechiness&#x27;, &#x27;tempo&#x27;,\n",
       "                                                &#x27;time_signature&#x27;, &#x27;valence&#x27;])),\n",
       "                (&#x27;imputer&#x27;, SimpleImputer(fill_value=0.5, strategy=&#x27;constant&#x27;)),\n",
       "                (&#x27;clf&#x27;,\n",
       "                 DecisionTreeClassifier(class_weight={0: 0.05, 1: 0.95},\n",
       "                                        max_depth=8))])</pre><b>In a Jupyter environment, please rerun this cell to show the HTML representation or trust the notebook. <br />On GitHub, the HTML representation is unable to render, please try loading this page with nbviewer.org.</b></div><div class=\"sk-container\" hidden><div class=\"sk-item sk-dashed-wrapped\"><div class=\"sk-label-container\"><div class=\"sk-label sk-toggleable\"><input class=\"sk-toggleable__control sk-hidden--visually\" id=\"sk-estimator-id-1\" type=\"checkbox\" ><label for=\"sk-estimator-id-1\" class=\"sk-toggleable__label sk-toggleable__label-arrow\">Pipeline</label><div class=\"sk-toggleable__content\"><pre>Pipeline(steps=[(&#x27;feature_selection&#x27;,\n",
       "                 FeatureSelector(feature_names=[&#x27;duration_ms&#x27;, &#x27;acousticness&#x27;,\n",
       "                                                &#x27;danceability&#x27;, &#x27;energy&#x27;,\n",
       "                                                &#x27;instrumentalness&#x27;, &#x27;key&#x27;,\n",
       "                                                &#x27;liveness&#x27;, &#x27;loudness&#x27;, &#x27;mode&#x27;,\n",
       "                                                &#x27;speechiness&#x27;, &#x27;tempo&#x27;,\n",
       "                                                &#x27;time_signature&#x27;, &#x27;valence&#x27;])),\n",
       "                (&#x27;imputer&#x27;, SimpleImputer(fill_value=0.5, strategy=&#x27;constant&#x27;)),\n",
       "                (&#x27;clf&#x27;,\n",
       "                 DecisionTreeClassifier(class_weight={0: 0.05, 1: 0.95},\n",
       "                                        max_depth=8))])</pre></div></div></div><div class=\"sk-serial\"><div class=\"sk-item\"><div class=\"sk-estimator sk-toggleable\"><input class=\"sk-toggleable__control sk-hidden--visually\" id=\"sk-estimator-id-2\" type=\"checkbox\" ><label for=\"sk-estimator-id-2\" class=\"sk-toggleable__label sk-toggleable__label-arrow\">FeatureSelector</label><div class=\"sk-toggleable__content\"><pre>FeatureSelector(feature_names=[&#x27;duration_ms&#x27;, &#x27;acousticness&#x27;, &#x27;danceability&#x27;,\n",
       "                               &#x27;energy&#x27;, &#x27;instrumentalness&#x27;, &#x27;key&#x27;, &#x27;liveness&#x27;,\n",
       "                               &#x27;loudness&#x27;, &#x27;mode&#x27;, &#x27;speechiness&#x27;, &#x27;tempo&#x27;,\n",
       "                               &#x27;time_signature&#x27;, &#x27;valence&#x27;])</pre></div></div></div><div class=\"sk-item\"><div class=\"sk-estimator sk-toggleable\"><input class=\"sk-toggleable__control sk-hidden--visually\" id=\"sk-estimator-id-3\" type=\"checkbox\" ><label for=\"sk-estimator-id-3\" class=\"sk-toggleable__label sk-toggleable__label-arrow\">SimpleImputer</label><div class=\"sk-toggleable__content\"><pre>SimpleImputer(fill_value=0.5, strategy=&#x27;constant&#x27;)</pre></div></div></div><div class=\"sk-item\"><div class=\"sk-estimator sk-toggleable\"><input class=\"sk-toggleable__control sk-hidden--visually\" id=\"sk-estimator-id-4\" type=\"checkbox\" ><label for=\"sk-estimator-id-4\" class=\"sk-toggleable__label sk-toggleable__label-arrow\">DecisionTreeClassifier</label><div class=\"sk-toggleable__content\"><pre>DecisionTreeClassifier(class_weight={0: 0.05, 1: 0.95}, max_depth=8)</pre></div></div></div></div></div></div></div>"
      ],
      "text/plain": [
       "Pipeline(steps=[('feature_selection',\n",
       "                 FeatureSelector(feature_names=['duration_ms', 'acousticness',\n",
       "                                                'danceability', 'energy',\n",
       "                                                'instrumentalness', 'key',\n",
       "                                                'liveness', 'loudness', 'mode',\n",
       "                                                'speechiness', 'tempo',\n",
       "                                                'time_signature', 'valence'])),\n",
       "                ('imputer', SimpleImputer(fill_value=0.5, strategy='constant')),\n",
       "                ('clf',\n",
       "                 DecisionTreeClassifier(class_weight={0: 0.05, 1: 0.95},\n",
       "                                        max_depth=8))])"
      ]
     },
     "execution_count": 41,
     "metadata": {},
     "output_type": "execute_result"
    }
   ],
   "source": [
    "model_pipeline.fit(X_train, y_train)"
   ]
  },
  {
   "cell_type": "code",
   "execution_count": 43,
   "id": "3424884f",
   "metadata": {
    "scrolled": false
   },
   "outputs": [
    {
     "data": {
      "text/plain": [
       "<sklearn.metrics._plot.confusion_matrix.ConfusionMatrixDisplay at 0x12d5fff8190>"
      ]
     },
     "execution_count": 43,
     "metadata": {},
     "output_type": "execute_result"
    },
    {
     "data": {
      "image/png": "[encoded data removed]",
      "text/plain": [
       "<Figure size 640x480 with 2 Axes>"
      ]
     },
     "metadata": {},
     "output_type": "display_data"
    }
   ],
   "source": [
    "ConfusionMatrixDisplay(confusion_matrix(model_pipeline.predict(X_test), y_test, normalize='pred'), display_labels=model_pipeline.classes_).plot()"
   ]
  },
  {
   "cell_type": "code",
   "execution_count": 46,
   "id": "f5aeea56",
   "metadata": {},
   "outputs": [
    {
     "data": {
      "text/plain": [
       "['../models/base_all_features__dtc_test.pkl']"
      ]
     },
     "execution_count": 46,
     "metadata": {},
     "output_type": "execute_result"
    }
   ],
   "source": [
    "# Saving\n",
    "joblib.dump(model_pipeline, f'../models/{model_name}.pkl', compress = 1)"
   ]
  },
  {
   "cell_type": "code",
   "execution_count": 47,
   "id": "0462ea90",
   "metadata": {},
   "outputs": [],
   "source": [
    "# Load and test it can indeed be scored\n",
    "loaded_pipeline = joblib.load(f'../models/{model_name}.pkl')"
   ]
  },
  {
   "cell_type": "code",
   "execution_count": 48,
   "id": "97099a58",
   "metadata": {},
   "outputs": [
    {
     "data": {
      "text/plain": [
       "<sklearn.metrics._plot.confusion_matrix.ConfusionMatrixDisplay at 0x12d60f7fd60>"
      ]
     },
     "execution_count": 48,
     "metadata": {},
     "output_type": "execute_result"
    },
    {
     "data": {
      "image/png": "[encoded data removed]",
      "text/plain": [
       "<Figure size 640x480 with 2 Axes>"
      ]
     },
     "metadata": {},
     "output_type": "display_data"
    }
   ],
   "source": [
    "ConfusionMatrixDisplay(confusion_matrix(loaded_pipeline.predict(X_test), y_test, normalize='pred'), display_labels=model_pipeline.classes_).plot()"
   ]
  },
  {
   "cell_type": "code",
   "execution_count": null,
   "id": "3ea22853",
   "metadata": {},
   "outputs": [],
   "source": []
  }
 ],
 "metadata": {
  "kernelspec": {
   "display_name": "Python 3 (ipykernel)",
   "language": "python",
   "name": "python3"
  },
  "language_info": {
   "codemirror_mode": {
    "name": "ipython",
    "version": 3
   },
   "file_extension": ".py",
   "mimetype": "text/x-python",
   "name": "python",
   "nbconvert_exporter": "python",
   "pygments_lexer": "ipython3",
   "version": "3.9.4"
  }
 },
 "nbformat": 4,
 "nbformat_minor": 5
}
