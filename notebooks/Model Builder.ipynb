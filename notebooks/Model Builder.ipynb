{
 "cells": [
  {
   "cell_type": "code",
   "execution_count": 1,
   "id": "9fe98992",
   "metadata": {},
   "outputs": [],
   "source": [
    "import sys\n",
    "sys.path.append(\"..\") # To get storm code\n",
    "\n",
    "import pandas as pd\n",
    "import numpy as np\n",
    "\n",
    "from sklearn import tree\n",
    "from sklearn.model_selection import train_test_split\n",
    "from sklearn.metrics import ConfusionMatrixDisplay, confusion_matrix\n",
    "from sklearn.utils import shuffle\n",
    "\n",
    "from typing import List, Dict"
   ]
  },
  {
   "cell_type": "code",
   "execution_count": 2,
   "id": "26f8a539",
   "metadata": {},
   "outputs": [],
   "source": [
    "# Internal imports\n",
    "from src.db import StormDB\n",
    "\n",
    "sdb = StormDB()"
   ]
  },
  {
   "cell_type": "markdown",
   "id": "06a4f4c6",
   "metadata": {},
   "source": [
    "# Helper\n",
    "Not everything exists in the codebase, helper functions that might need to be added in future version will be here"
   ]
  },
  {
   "cell_type": "code",
   "execution_count": 3,
   "id": "c1c6cf11",
   "metadata": {},
   "outputs": [],
   "source": [
    "def get_tracks_from_artists(artists: List[str], start_date: str, end_date: str) -> List[str]:\n",
    "    \"\"\"\n",
    "    Returns all tracks in database from a list of artists and a date range for releases.\n",
    "    \"\"\"\n",
    "    \n",
    "    albums = sdb.get_albums_from_artists_by_date(artists, start_date, end_date)\n",
    "    tracks = np.unique(sdb.get_tracks_from_albums(albums)).tolist()\n",
    "    \n",
    "    return tracks"
   ]
  },
  {
   "cell_type": "markdown",
   "id": "68801a2b",
   "metadata": {},
   "source": [
    "# Preparation\n",
    "Retrieve data from a playlist. Each storm comes configured with a great_targets configuration component, indicating where the best songs from the storm runs have been stored. This will be the basis of the outputs of the prediction"
   ]
  },
  {
   "cell_type": "code",
   "execution_count": 4,
   "id": "13e35f31",
   "metadata": {},
   "outputs": [],
   "source": [
    "storm_name = 'film_vg_instrumental_v2'\n",
    "fields = {\n",
    "    'explicit':0, \n",
    "    'last_updated':0, \n",
    "    'album_id':0,\n",
    "    'audio_analysis':0,\n",
    "    'audio_analysis_flag':0,\n",
    "} # This returns eveything but these fields, see a sample below."
   ]
  },
  {
   "cell_type": "code",
   "execution_count": 5,
   "id": "9992cb80",
   "metadata": {},
   "outputs": [],
   "source": [
    "# First grab the targets. These will be 1s in the prediction\n",
    "target_playlist = sdb.get_config('film_vg_instrumental_v2')['great_targets']\n",
    "target_track_ids = sdb.get_loaded_playlist_tracks(target_playlist)\n",
    "target_tracks = sdb.get_track_info(target_track_ids, fields=fields)"
   ]
  },
  {
   "cell_type": "code",
   "execution_count": 6,
   "id": "d309d75f",
   "metadata": {},
   "outputs": [],
   "source": [
    "# Next we need to get a sample of tracks that are not 1s. For a first pass we will\n",
    "# grab everything by the artists in the last 5 years. We will sample downstream\n",
    "\n",
    "artists = []\n",
    "[artists.extend(track['artists']) for track in target_tracks]\n",
    "\n",
    "non_target_track_ids = get_tracks_from_artists(artists, start_date='2017-01-01', end_date='2023-01-01')\n",
    "non_target_tracks = sdb.get_track_info(non_target_track_ids, fields=fields)"
   ]
  },
  {
   "cell_type": "code",
   "execution_count": 7,
   "id": "6e68e8f7",
   "metadata": {},
   "outputs": [],
   "source": [
    "# unify into one dataframe\n",
    "df = (\n",
    "    pd.DataFrame.from_records(target_tracks+non_target_tracks)\n",
    "    .drop_duplicates('_id')\n",
    "    .set_index('_id')\n",
    ")\n",
    "\n",
    "df['target'] = 0\n",
    "df.loc[df[df.index.isin(target_track_ids)].index, 'target'] = 1"
   ]
  },
  {
   "cell_type": "markdown",
   "id": "b50bc161",
   "metadata": {},
   "source": [
    "# Modeling\n",
    "We want to try and predict the songs that I like. Out of 25,676, only ~200 are 'great_targets', which is a <.5% discovery rate. "
   ]
  },
  {
   "cell_type": "code",
   "execution_count": 8,
   "id": "9db696c5",
   "metadata": {},
   "outputs": [
    {
     "data": {
      "text/plain": [
       "0    233\n",
       "1    191\n",
       "Name: target, dtype: int64"
      ]
     },
     "execution_count": 8,
     "metadata": {},
     "output_type": "execute_result"
    }
   ],
   "source": [
    "# Create an even sample of tracks\n",
    "sampled = shuffle(df.groupby('target').head(len(target_track_ids)), random_state=42)\n",
    "sampled.target.value_counts()"
   ]
  },
  {
   "cell_type": "code",
   "execution_count": 9,
   "id": "b86bfcc8",
   "metadata": {},
   "outputs": [],
   "source": [
    "feature_cols = [\n",
    "    'duration_ms', \n",
    "    'acousticness',\n",
    "    'danceability', \n",
    "    'energy', \n",
    "    'instrumentalness', \n",
    "    'key',\n",
    "    'liveness', \n",
    "    'loudness', \n",
    "    'mode', \n",
    "    'speechiness', \n",
    "    'tempo',\n",
    "    'time_signature', \n",
    "    'valence',\n",
    "]\n",
    "\n",
    "X_train, X_test, y_train, y_test = train_test_split(sampled[feature_cols], sampled['target'])"
   ]
  },
  {
   "cell_type": "code",
   "execution_count": 18,
   "id": "db85caad",
   "metadata": {},
   "outputs": [],
   "source": [
    "dt = tree.DecisionTreeClassifier(class_weight={0:.05, 1:.95}, max_depth=8).fit(X_train.fillna(.5), y_train)"
   ]
  },
  {
   "cell_type": "code",
   "execution_count": 19,
   "id": "3424884f",
   "metadata": {},
   "outputs": [
    {
     "data": {
      "text/plain": [
       "<sklearn.metrics._plot.confusion_matrix.ConfusionMatrixDisplay at 0x161ca947130>"
      ]
     },
     "execution_count": 19,
     "metadata": {},
     "output_type": "execute_result"
    },
    {
     "data": {
      "image/png": "[encoded data removed]",
      "text/plain": [
       "<Figure size 640x480 with 2 Axes>"
      ]
     },
     "metadata": {},
     "output_type": "display_data"
    }
   ],
   "source": [
    "ConfusionMatrixDisplay(confusion_matrix(dt.predict(X_test.fillna(.5)), y_test, normalize='pred'), display_labels=dt.classes_).plot()"
   ]
  },
  {
   "cell_type": "code",
   "execution_count": null,
   "id": "b9e34ce5",
   "metadata": {},
   "outputs": [],
   "source": [
    "dt.predict(X_test)"
   ]
  },
  {
   "cell_type": "code",
   "execution_count": null,
   "id": "50378ad0",
   "metadata": {},
   "outputs": [],
   "source": [
    "y_test.values"
   ]
  },
  {
   "cell_type": "code",
   "execution_count": null,
   "id": "41281979",
   "metadata": {},
   "outputs": [],
   "source": [
    "X_test"
   ]
  },
  {
   "cell_type": "code",
   "execution_count": null,
   "id": "8ae5a273",
   "metadata": {},
   "outputs": [],
   "source": []
  }
 ],
 "metadata": {
  "kernelspec": {
   "display_name": "Python 3 (ipykernel)",
   "language": "python",
   "name": "python3"
  },
  "language_info": {
   "codemirror_mode": {
    "name": "ipython",
    "version": 3
   },
   "file_extension": ".py",
   "mimetype": "text/x-python",
   "name": "python",
   "nbconvert_exporter": "python",
   "pygments_lexer": "ipython3",
   "version": "3.9.4"
  }
 },
 "nbformat": 4,
 "nbformat_minor": 5
}
