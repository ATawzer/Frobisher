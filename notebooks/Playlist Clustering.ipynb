{
 "cells": [
  {
   "cell_type": "code",
   "execution_count": 15,
   "id": "9fe98992",
   "metadata": {},
   "outputs": [],
   "source": [
    "import sys\n",
    "sys.path.append(\"..\") # To get storm code\n",
    "\n",
    "import pandas as pd\n",
    "import numpy as np\n",
    "import os\n",
    "\n",
    "from sklearn.pipeline import Pipeline\n",
    "from sklearn.impute import SimpleImputer\n",
    "from sklearn.cluster import KMeans\n",
    "import joblib\n",
    "from uuid import uuid4\n",
    "\n",
    "import plotly.express as px"
   ]
  },
  {
   "cell_type": "code",
   "execution_count": 16,
   "id": "26f8a539",
   "metadata": {},
   "outputs": [],
   "source": [
    "# Internal imports\n",
    "from pymongo import MongoClient\n",
    "from src.db import StormDB\n",
    "from src.storm_client import StormUserClient\n",
    "from src.runner import StormRunner\n",
    "from src.modeling import FeatureSelector\n",
    "\n",
    "sdb = StormDB()\n",
    "suc = StormUserClient(os.getenv('user_id'))"
   ]
  },
  {
   "cell_type": "code",
   "execution_count": 17,
   "id": "18e0c603",
   "metadata": {},
   "outputs": [],
   "source": [
    "# Model Params\n",
    "simple_columns = [\n",
    "    'liveness',\n",
    "    'speechiness',\n",
    "    'valence',\n",
    "    'danceability',\n",
    "    'acousticness',\n",
    "    'energy',\n",
    "    'instrumentalness',\n",
    "]\n",
    "\n",
    "n_clusters = 6"
   ]
  },
  {
   "cell_type": "markdown",
   "id": "dd84352f",
   "metadata": {},
   "source": [
    "## Helpers"
   ]
  },
  {
   "cell_type": "code",
   "execution_count": 18,
   "id": "96514825",
   "metadata": {},
   "outputs": [
    {
     "name": "stderr",
     "output_type": "stream",
     "text": [
      "Using `localhost` as redirect URI without a port. Specify a port (e.g. `localhost:8080`) to allow automatic retrieval of authentication code instead of having to copy and paste the URL your browser is redirected to.\n"
     ]
    },
    {
     "name": "stdout",
     "output_type": "stream",
     "text": [
      "Enter the URL you were redirected to: http://localhost/?code=AQDc1xmpquGY8ciQm1jWeY49fOFiWpfi7vJRqMeyFIwMmol8-DP8qGzmYpcQ-2GD4buXd7zoclztkRUiR3lbF2UrgHIS2NTX_WMaZkwrkAF7CqgF7fMmZQuhUAytMdbR_oKOleyG1U5-ZYo_FuAYkIKV2YNj1e9auGeLwRLiesaPeZhDciqFn68oAcFxnqr2ur_CxoWN9tJ6C1l9j3ct-2f1ybOIQQ\n"
     ]
    }
   ],
   "source": [
    "StormRunner('film_vg_instrumental_v2').load_last_run()\n",
    ".collect_playlist_info()"
   ]
  },
  {
   "cell_type": "markdown",
   "id": "e050f6de",
   "metadata": {},
   "source": [
    "## Source"
   ]
  },
  {
   "cell_type": "code",
   "execution_count": 19,
   "id": "13e35f31",
   "metadata": {},
   "outputs": [],
   "source": [
    "# Playlists (input_to_cluster, new_tracks_to_score)\n",
    "inst = ('0R1gw1JbcOFD0r8IzrbtYP', '7fnvajjUoWBQDo8iFNMH3s')\n",
    "lyr = ('2zngrEiplX6Z1aAaIWgZ4m', '6v7JJ3RJZQbJaA9ImezP3F')\n",
    "tiaptp = ('2TngS1Exm3C5F10XVM1B4L', '2TngS1Exm3C5F10XVM1B4L')\n",
    "\n",
    "playlist_pairs = [inst, lyr, tiaptp]\n",
    "playlist_predictions = [None for x in playlist_pairs]\n",
    "\n",
    "fields = {'last_updated':0} # The only fields not needed are the metadata for runs"
   ]
  },
  {
   "cell_type": "markdown",
   "id": "e31817e7",
   "metadata": {},
   "source": [
    "## Simple Clustering -  Fitting\n",
    "Take the track as a flat representation and group the target playlist. Model will be outputted and can be validated in a separate location. Retraining will always need to be manual and validation will need to be manual since the value of the groups is mostly based on their meaning to the end user."
   ]
  },
  {
   "cell_type": "code",
   "execution_count": 20,
   "id": "d11a1d3e",
   "metadata": {},
   "outputs": [],
   "source": [
    "for i, playlist_pair in enumerate(playlist_pairs):\n",
    "    \n",
    "    # Get Target Playlist for clustering\n",
    "    target_tracks = sdb.get_track_info(sdb.get_loaded_playlist_tracks(playlist_pair[0]), fields=fields)\n",
    "    df = pd.DataFrame.from_records(target_tracks)\n",
    "    \n",
    "    # Get Playlist tracks to score\n",
    "    output = sdb.get_track_info(sdb.get_loaded_playlist_tracks(playlist_pair[1]), fields=fields)\n",
    "    output_df = pd.DataFrame.from_records(output)\n",
    "    \n",
    "    cluster_pipeline = Pipeline([\n",
    "        ('feature_selection', FeatureSelector(simple_columns)),\n",
    "        ('impute', SimpleImputer(strategy='constant', fill_value=.5)),\n",
    "        ('kmeans', KMeans(n_clusters))\n",
    "    ]).fit(df)\n",
    "    \n",
    "    output_df['cluster'] = cluster_pipeline.predict(output_df)\n",
    "    playlist_predictions[i] = output_df"
   ]
  },
  {
   "cell_type": "code",
   "execution_count": 21,
   "id": "e6ea74e8",
   "metadata": {},
   "outputs": [
    {
     "data": {
      "text/html": [
       "<div>\n",
       "<style scoped>\n",
       "    .dataframe tbody tr th:only-of-type {\n",
       "        vertical-align: middle;\n",
       "    }\n",
       "\n",
       "    .dataframe tbody tr th {\n",
       "        vertical-align: top;\n",
       "    }\n",
       "\n",
       "    .dataframe thead th {\n",
       "        text-align: right;\n",
       "    }\n",
       "</style>\n",
       "<table border=\"1\" class=\"dataframe\">\n",
       "  <thead>\n",
       "    <tr style=\"text-align: right;\">\n",
       "      <th></th>\n",
       "      <th>_id</th>\n",
       "      <th>album_id</th>\n",
       "      <th>artists</th>\n",
       "      <th>duration_ms</th>\n",
       "      <th>explicit</th>\n",
       "      <th>name</th>\n",
       "      <th>track_number</th>\n",
       "      <th>acousticness</th>\n",
       "      <th>audio_features</th>\n",
       "      <th>danceability</th>\n",
       "      <th>...</th>\n",
       "      <th>instrumentalness</th>\n",
       "      <th>key</th>\n",
       "      <th>liveness</th>\n",
       "      <th>loudness</th>\n",
       "      <th>mode</th>\n",
       "      <th>speechiness</th>\n",
       "      <th>tempo</th>\n",
       "      <th>time_signature</th>\n",
       "      <th>valence</th>\n",
       "      <th>cluster</th>\n",
       "    </tr>\n",
       "  </thead>\n",
       "  <tbody>\n",
       "    <tr>\n",
       "      <th>0</th>\n",
       "      <td>3UcZSfsPaWmyRJPsWxV6RJ</td>\n",
       "      <td>3in5dg17c0pM5pIG17WRjd</td>\n",
       "      <td>[3gGbSXSwHWmrUBIG9IUAau, 3C4MmUJYQN9svNdedAR2BK]</td>\n",
       "      <td>275242</td>\n",
       "      <td>False</td>\n",
       "      <td>It's Not Too Late</td>\n",
       "      <td>1</td>\n",
       "      <td>0.968</td>\n",
       "      <td>True</td>\n",
       "      <td>0.24</td>\n",
       "      <td>...</td>\n",
       "      <td>0.667</td>\n",
       "      <td>2</td>\n",
       "      <td>0.0611</td>\n",
       "      <td>-17.419</td>\n",
       "      <td>0</td>\n",
       "      <td>0.0424</td>\n",
       "      <td>109.324</td>\n",
       "      <td>4</td>\n",
       "      <td>0.0388</td>\n",
       "      <td>4</td>\n",
       "    </tr>\n",
       "  </tbody>\n",
       "</table>\n",
       "<p>1 rows × 21 columns</p>\n",
       "</div>"
      ],
      "text/plain": [
       "                      _id                album_id  \\\n",
       "0  3UcZSfsPaWmyRJPsWxV6RJ  3in5dg17c0pM5pIG17WRjd   \n",
       "\n",
       "                                            artists  duration_ms  explicit  \\\n",
       "0  [3gGbSXSwHWmrUBIG9IUAau, 3C4MmUJYQN9svNdedAR2BK]       275242     False   \n",
       "\n",
       "                name  track_number  acousticness  audio_features  \\\n",
       "0  It's Not Too Late             1         0.968            True   \n",
       "\n",
       "   danceability  ...  instrumentalness  key  liveness  loudness  mode  \\\n",
       "0          0.24  ...             0.667    2    0.0611   -17.419     0   \n",
       "\n",
       "   speechiness    tempo  time_signature  valence  cluster  \n",
       "0       0.0424  109.324               4   0.0388        4  \n",
       "\n",
       "[1 rows x 21 columns]"
      ]
     },
     "execution_count": 21,
     "metadata": {},
     "output_type": "execute_result"
    }
   ],
   "source": [
    "playlist_predictions[0]"
   ]
  },
  {
   "cell_type": "markdown",
   "id": "c3d43ca8",
   "metadata": {},
   "source": [
    "## Registering and Saving\n",
    "Based on the results above you can save the model below, which can then be run within a clusterizer workflow"
   ]
  },
  {
   "cell_type": "code",
   "execution_count": 52,
   "id": "fd94d15f",
   "metadata": {},
   "outputs": [
    {
     "data": {
      "text/plain": [
       "'film_vg_instrumental_v2__track_feature_clusterizer__912681f5-926b-4da3-8bb8-d9bbb7259953'"
      ]
     },
     "execution_count": 52,
     "metadata": {},
     "output_type": "execute_result"
    }
   ],
   "source": []
  },
  {
   "cell_type": "code",
   "execution_count": null,
   "id": "7c940b97",
   "metadata": {},
   "outputs": [],
   "source": []
  }
 ],
 "metadata": {
  "kernelspec": {
   "display_name": "Python 3 (ipykernel)",
   "language": "python",
   "name": "python3"
  },
  "language_info": {
   "codemirror_mode": {
    "name": "ipython",
    "version": 3
   },
   "file_extension": ".py",
   "mimetype": "text/x-python",
   "name": "python",
   "nbconvert_exporter": "python",
   "pygments_lexer": "ipython3",
   "version": "3.9.4"
  }
 },
 "nbformat": 4,
 "nbformat_minor": 5
}
