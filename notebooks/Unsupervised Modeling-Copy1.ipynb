{
 "cells": [
  {
   "cell_type": "code",
   "execution_count": 41,
   "id": "9fe98992",
   "metadata": {},
   "outputs": [],
   "source": [
    "import sys\n",
    "sys.path.append(\"..\") # To get storm code\n",
    "\n",
    "import pandas as pd\n",
    "import numpy as np\n",
    "\n",
    "from sklearn.pipeline import Pipeline\n",
    "from sklearn.impute import SimpleImputer\n",
    "from sklearn.cluster import KMeans\n",
    "import joblib\n",
    "from uuid import uuid4\n",
    "\n",
    "import plotly.express as px"
   ]
  },
  {
   "cell_type": "code",
   "execution_count": 29,
   "id": "26f8a539",
   "metadata": {},
   "outputs": [],
   "source": [
    "# Internal imports\n",
    "from pymongo import MongoClient\n",
    "from src.db import StormDB\n",
    "from src.modeling import FeatureSelector\n",
    "\n",
    "sdb = StormDB(MongoClient(host='localhost', port=27017))"
   ]
  },
  {
   "cell_type": "code",
   "execution_count": 23,
   "id": "18e0c603",
   "metadata": {},
   "outputs": [],
   "source": [
    "# Configuration, name follows friendly_name__storm class__version(preferrably auto-generate)\n",
    "MODEL_TYPE = 'track_feature_clusterizer' # For use in model registry\n",
    "\n",
    "# Model Params\n",
    "simple_columns = [\n",
    "    'liveness',\n",
    "    'speechiness',\n",
    "    'valence',\n",
    "    'danceability',\n",
    "    'acousticness',\n",
    "    'energy',\n",
    "    'instrumentalness',\n",
    "]\n",
    "n_clusters = 6"
   ]
  },
  {
   "cell_type": "markdown",
   "id": "dd84352f",
   "metadata": {},
   "source": [
    "## Helpers"
   ]
  },
  {
   "cell_type": "code",
   "execution_count": 51,
   "id": "96514825",
   "metadata": {},
   "outputs": [],
   "source": [
    "class ModelManager:\n",
    "    \"\"\"\n",
    "    Shared object for managing the preservation and movement of models\n",
    "    for different storms within the same directory.\n",
    "    \"\"\"\n",
    "\n",
    "    def __init__(self, dir: str='../models', base_format: str = '{0}__{1}__{2}'):\n",
    "        self.dir = dir\n",
    "        self.base_format = base_format\n",
    "\n",
    "    def load_model_by_name(self, name: str, location ='/dev'):\n",
    "        \"\"\"\n",
    "        Loads a model from prod or dev given exact name\n",
    "        \"\"\"\n",
    "\n",
    "        if name+'.pkl' in os.listdir(self.dir+location):\n",
    "            model = joblib.load(name+'.pkl')\n",
    "\n",
    "            return model\n",
    "        else:\n",
    "            raise FileNotFoundError(f\"Can't find {name}.pkl\")\n",
    "\n",
    "    def register_model(self, storm_name: str, storm_model_type: str, fitted_pipeline: Pipeline):\n",
    "        \"\"\"\n",
    "        Saves a model to the directory with consistent formatting\n",
    "        \"\"\"\n",
    "\n",
    "        output_name = self.base_format.format(storm_name, storm_model_type, uuid4())\n",
    "        joblib.dump(fitted_pipeline, f'../models/dev/{output_name}.pkl', compress = 1)\n",
    "\n",
    "        return output_name\n",
    "\n",
    "    def promote_model(model_name, retire: bool=True):\n",
    "        \"\"\"\n",
    "        Moves a model from dev to prod. This allows for preservation of dev and prod models.\n",
    "        If a model of the type already exists in prod it will move it to archive.\n",
    "        dev -> prod, if in prod then prod -> archive\n",
    "        \"\"\"\n",
    "\n",
    "        None\n",
    "\n",
    "\n",
    "    def restore_model(retire: bool=True):\n",
    "        \"\"\"\n",
    "        Moves a model from dev to prod. This allows for preservation of dev and prod models.\n",
    "        If a model of the type already exists in prod it will move it to archive.\n",
    "        archive -> prod, if in prod then prod -> dev\n",
    "        \"\"\"\n",
    "\n",
    "        None\n",
    "\n",
    "    def get_prod_model(storm_name, storm_model_type):\n",
    "        \"\"\"\n",
    "        Returns the loaded model from prod\n",
    "        \"\"\"\n",
    "    \n",
    "        None"
   ]
  },
  {
   "cell_type": "markdown",
   "id": "e050f6de",
   "metadata": {},
   "source": [
    "## Source"
   ]
  },
  {
   "cell_type": "code",
   "execution_count": 43,
   "id": "13e35f31",
   "metadata": {},
   "outputs": [],
   "source": [
    "storm_name = 'film_vg_instrumental_v2'\n",
    "fields = {'last_updated':0} # The only fields not needed are the metadata for runs"
   ]
  },
  {
   "cell_type": "code",
   "execution_count": 44,
   "id": "9992cb80",
   "metadata": {},
   "outputs": [],
   "source": [
    "# First grab the targets. These will be 1s in the prediction\n",
    "target_playlist = sdb.get_config(storm_name)['great_targets']\n",
    "target_track_ids = sdb.get_loaded_playlist_tracks(target_playlist)\n",
    "target_tracks = sdb.get_track_info(target_track_ids, fields=fields)"
   ]
  },
  {
   "cell_type": "code",
   "execution_count": 45,
   "id": "50f0a145",
   "metadata": {},
   "outputs": [],
   "source": [
    "df = pd.DataFrame.from_records(target_tracks)"
   ]
  },
  {
   "cell_type": "markdown",
   "id": "e31817e7",
   "metadata": {},
   "source": [
    "## Simple Clustering -  Fitting\n",
    "Take the track as a flat representation and group the target playlist. Model will be outputted and can be validated in a separate location. Retraining will always need to be manual and validation will need to be manual since the value of the groups is mostly based on their meaning to the end user."
   ]
  },
  {
   "cell_type": "code",
   "execution_count": 46,
   "id": "d11a1d3e",
   "metadata": {},
   "outputs": [],
   "source": [
    "cluster_pipeline = Pipeline([\n",
    "    ('feature_selection', FeatureSelector(simple_columns)),\n",
    "    ('impute', SimpleImputer(strategy='constant', fill_value=.5)),\n",
    "    ('kmeans', KMeans(n_clusters))\n",
    "]).fit(df)"
   ]
  },
  {
   "cell_type": "code",
   "execution_count": 52,
   "id": "fd94d15f",
   "metadata": {},
   "outputs": [
    {
     "data": {
      "text/plain": [
       "'film_vg_instrumental_v2__track_feature_clusterizer__912681f5-926b-4da3-8bb8-d9bbb7259953'"
      ]
     },
     "execution_count": 52,
     "metadata": {},
     "output_type": "execute_result"
    }
   ],
   "source": [
    "ModelManager().register_model(storm_name, MODEL_TYPE, cluster_pipeline)"
   ]
  },
  {
   "cell_type": "code",
   "execution_count": null,
   "id": "7c940b97",
   "metadata": {},
   "outputs": [],
   "source": []
  }
 ],
 "metadata": {
  "kernelspec": {
   "display_name": "Python 3 (ipykernel)",
   "language": "python",
   "name": "python3"
  },
  "language_info": {
   "codemirror_mode": {
    "name": "ipython",
    "version": 3
   },
   "file_extension": ".py",
   "mimetype": "text/x-python",
   "name": "python",
   "nbconvert_exporter": "python",
   "pygments_lexer": "ipython3",
   "version": "3.9.4"
  }
 },
 "nbformat": 4,
 "nbformat_minor": 5
}
